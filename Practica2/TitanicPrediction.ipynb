{
 "cells": [
  {
   "cell_type": "markdown",
   "id": "c99041f0",
   "metadata": {},
   "source": [
    "# Predicción de supervivéncia del Titanic\n",
    "\n",
    "Esta práctica se divide en dos partes:\n",
    "1. En la primera parte entrenaremos un conjunto de modelos de clasificación de machine learning (perceptron, regression logística y arbol de decisión) para predecir la probabilidad que tendría un pasajero del Titánic de sobrevivir.\n",
    "2. En la segunda parte realizaremos el *feature importance*, que básicamente consiste en analizar la importancia que tiene cada característica en cada uno de los modelos predictivos\n",
    "\n",
    "![OHE](https://imgs.search.brave.com/CBGLwVZlwIgvFy4Xz8Bwqvb_lfMRFR3EcowdsdJxKU4/rs:fit:1200:675:1/g:ce/aHR0cHM6Ly93d3cu/Y29uY2llcnRvLmNs/L3dwLWNvbnRlbnQv/dXBsb2Fkcy8yMDIx/LzA0L1RpdGFuaWMu/anBn)\n"
   ]
  },
  {
   "cell_type": "markdown",
   "id": "31ec03d3",
   "metadata": {},
   "source": [
    "## Parte 1"
   ]
  },
  {
   "cell_type": "markdown",
   "id": "aa00deb1",
   "metadata": {},
   "source": [
    "### 1.1 Importar librerias\n",
    "Importamos la librerias que usaremos"
   ]
  },
  {
   "cell_type": "code",
   "execution_count": 1,
   "id": "dbeaa700",
   "metadata": {},
   "outputs": [],
   "source": [
    "from sklearn.model_selection import train_test_split\n",
    "from sklearn import linear_model\n",
    "from sklearn.preprocessing import StandardScaler\n",
    "from sklearn.preprocessing import MinMaxScaler\n",
    "import matplotlib.pyplot as plt\n",
    "import seaborn as sns\n",
    "import pandas as pd\n",
    "import numpy as np\n",
    "import math\n",
    "import statistics"
   ]
  },
  {
   "cell_type": "markdown",
   "id": "ec4129d5",
   "metadata": {},
   "source": [
    "### 1.2 Cargamos el dataset\n",
    "Cargamos el dataset para poder visualizar los datos que usaremos."
   ]
  },
  {
   "cell_type": "code",
   "execution_count": 2,
   "id": "74e78c39",
   "metadata": {},
   "outputs": [],
   "source": [
    "df = pd.read_csv(\"./dades.csv\")"
   ]
  },
  {
   "cell_type": "markdown",
   "id": "b6bf378b",
   "metadata": {},
   "source": [
    "Para poder ver todas las columnas usamos la sigüiente instrucción de *pandas*"
   ]
  },
  {
   "cell_type": "code",
   "execution_count": 3,
   "id": "24915211",
   "metadata": {},
   "outputs": [
    {
     "data": {
      "text/html": [
       "<div>\n",
       "<style scoped>\n",
       "    .dataframe tbody tr th:only-of-type {\n",
       "        vertical-align: middle;\n",
       "    }\n",
       "\n",
       "    .dataframe tbody tr th {\n",
       "        vertical-align: top;\n",
       "    }\n",
       "\n",
       "    .dataframe thead th {\n",
       "        text-align: right;\n",
       "    }\n",
       "</style>\n",
       "<table border=\"1\" class=\"dataframe\">\n",
       "  <thead>\n",
       "    <tr style=\"text-align: right;\">\n",
       "      <th></th>\n",
       "      <th>PassengerId</th>\n",
       "      <th>Survived</th>\n",
       "      <th>Pclass</th>\n",
       "      <th>Name</th>\n",
       "      <th>Sex</th>\n",
       "      <th>Age</th>\n",
       "      <th>SibSp</th>\n",
       "      <th>Parch</th>\n",
       "      <th>Ticket</th>\n",
       "      <th>Fare</th>\n",
       "      <th>Cabin</th>\n",
       "      <th>Embarked</th>\n",
       "    </tr>\n",
       "  </thead>\n",
       "  <tbody>\n",
       "    <tr>\n",
       "      <th>0</th>\n",
       "      <td>1</td>\n",
       "      <td>0</td>\n",
       "      <td>3</td>\n",
       "      <td>Braund, Mr. Owen Harris</td>\n",
       "      <td>male</td>\n",
       "      <td>22.0</td>\n",
       "      <td>1</td>\n",
       "      <td>0</td>\n",
       "      <td>A/5 21171</td>\n",
       "      <td>7.2500</td>\n",
       "      <td>NaN</td>\n",
       "      <td>S</td>\n",
       "    </tr>\n",
       "    <tr>\n",
       "      <th>1</th>\n",
       "      <td>2</td>\n",
       "      <td>1</td>\n",
       "      <td>1</td>\n",
       "      <td>Cumings, Mrs. John Bradley (Florence Briggs Th...</td>\n",
       "      <td>female</td>\n",
       "      <td>38.0</td>\n",
       "      <td>1</td>\n",
       "      <td>0</td>\n",
       "      <td>PC 17599</td>\n",
       "      <td>71.2833</td>\n",
       "      <td>C85</td>\n",
       "      <td>C</td>\n",
       "    </tr>\n",
       "    <tr>\n",
       "      <th>2</th>\n",
       "      <td>3</td>\n",
       "      <td>1</td>\n",
       "      <td>3</td>\n",
       "      <td>Heikkinen, Miss. Laina</td>\n",
       "      <td>female</td>\n",
       "      <td>26.0</td>\n",
       "      <td>0</td>\n",
       "      <td>0</td>\n",
       "      <td>STON/O2. 3101282</td>\n",
       "      <td>7.9250</td>\n",
       "      <td>NaN</td>\n",
       "      <td>S</td>\n",
       "    </tr>\n",
       "    <tr>\n",
       "      <th>3</th>\n",
       "      <td>4</td>\n",
       "      <td>1</td>\n",
       "      <td>1</td>\n",
       "      <td>Futrelle, Mrs. Jacques Heath (Lily May Peel)</td>\n",
       "      <td>female</td>\n",
       "      <td>35.0</td>\n",
       "      <td>1</td>\n",
       "      <td>0</td>\n",
       "      <td>113803</td>\n",
       "      <td>53.1000</td>\n",
       "      <td>C123</td>\n",
       "      <td>S</td>\n",
       "    </tr>\n",
       "    <tr>\n",
       "      <th>4</th>\n",
       "      <td>5</td>\n",
       "      <td>0</td>\n",
       "      <td>3</td>\n",
       "      <td>Allen, Mr. William Henry</td>\n",
       "      <td>male</td>\n",
       "      <td>35.0</td>\n",
       "      <td>0</td>\n",
       "      <td>0</td>\n",
       "      <td>373450</td>\n",
       "      <td>8.0500</td>\n",
       "      <td>NaN</td>\n",
       "      <td>S</td>\n",
       "    </tr>\n",
       "  </tbody>\n",
       "</table>\n",
       "</div>"
      ],
      "text/plain": [
       "   PassengerId  Survived  Pclass  \\\n",
       "0            1         0       3   \n",
       "1            2         1       1   \n",
       "2            3         1       3   \n",
       "3            4         1       1   \n",
       "4            5         0       3   \n",
       "\n",
       "                                                Name     Sex   Age  SibSp  \\\n",
       "0                            Braund, Mr. Owen Harris    male  22.0      1   \n",
       "1  Cumings, Mrs. John Bradley (Florence Briggs Th...  female  38.0      1   \n",
       "2                             Heikkinen, Miss. Laina  female  26.0      0   \n",
       "3       Futrelle, Mrs. Jacques Heath (Lily May Peel)  female  35.0      1   \n",
       "4                           Allen, Mr. William Henry    male  35.0      0   \n",
       "\n",
       "   Parch            Ticket     Fare Cabin Embarked  \n",
       "0      0         A/5 21171   7.2500   NaN        S  \n",
       "1      0          PC 17599  71.2833   C85        C  \n",
       "2      0  STON/O2. 3101282   7.9250   NaN        S  \n",
       "3      0            113803  53.1000  C123        S  \n",
       "4      0            373450   8.0500   NaN        S  "
      ]
     },
     "execution_count": 3,
     "metadata": {},
     "output_type": "execute_result"
    }
   ],
   "source": [
    "pd.set_option('display.max_columns',None)\n",
    "df.head()"
   ]
  },
  {
   "cell_type": "markdown",
   "id": "942ece69",
   "metadata": {},
   "source": [
    "### 1.3 Limpieza de datos\n",
    "Para poder entrenar a nuestros modelos previamente debemos \"*masticar*\" los datos"
   ]
  },
  {
   "cell_type": "markdown",
   "id": "09cc5f24",
   "metadata": {},
   "source": [
    "#### 1.3.1 Eliminar columnas (Ruido)\n",
    "Lo primero que haremos será eliminar las columnas que contienen variables que no afectarán a nuestra predicción como el Id, el nombre del pasajero o el identificador del ticket"
   ]
  },
  {
   "cell_type": "code",
   "execution_count": 4,
   "id": "583e891a",
   "metadata": {},
   "outputs": [],
   "source": [
    "df = df.drop('PassengerId', axis=1)\n",
    "df = df.drop('Name', axis=1)\n",
    "df = df.drop('Ticket', axis=1)"
   ]
  },
  {
   "cell_type": "code",
   "execution_count": 5,
   "id": "76cb1c2b",
   "metadata": {},
   "outputs": [
    {
     "data": {
      "text/html": [
       "<div>\n",
       "<style scoped>\n",
       "    .dataframe tbody tr th:only-of-type {\n",
       "        vertical-align: middle;\n",
       "    }\n",
       "\n",
       "    .dataframe tbody tr th {\n",
       "        vertical-align: top;\n",
       "    }\n",
       "\n",
       "    .dataframe thead th {\n",
       "        text-align: right;\n",
       "    }\n",
       "</style>\n",
       "<table border=\"1\" class=\"dataframe\">\n",
       "  <thead>\n",
       "    <tr style=\"text-align: right;\">\n",
       "      <th></th>\n",
       "      <th>Survived</th>\n",
       "      <th>Pclass</th>\n",
       "      <th>Sex</th>\n",
       "      <th>Age</th>\n",
       "      <th>SibSp</th>\n",
       "      <th>Parch</th>\n",
       "      <th>Fare</th>\n",
       "      <th>Cabin</th>\n",
       "      <th>Embarked</th>\n",
       "    </tr>\n",
       "  </thead>\n",
       "  <tbody>\n",
       "    <tr>\n",
       "      <th>0</th>\n",
       "      <td>0</td>\n",
       "      <td>3</td>\n",
       "      <td>male</td>\n",
       "      <td>22.0</td>\n",
       "      <td>1</td>\n",
       "      <td>0</td>\n",
       "      <td>7.2500</td>\n",
       "      <td>NaN</td>\n",
       "      <td>S</td>\n",
       "    </tr>\n",
       "    <tr>\n",
       "      <th>1</th>\n",
       "      <td>1</td>\n",
       "      <td>1</td>\n",
       "      <td>female</td>\n",
       "      <td>38.0</td>\n",
       "      <td>1</td>\n",
       "      <td>0</td>\n",
       "      <td>71.2833</td>\n",
       "      <td>C85</td>\n",
       "      <td>C</td>\n",
       "    </tr>\n",
       "    <tr>\n",
       "      <th>2</th>\n",
       "      <td>1</td>\n",
       "      <td>3</td>\n",
       "      <td>female</td>\n",
       "      <td>26.0</td>\n",
       "      <td>0</td>\n",
       "      <td>0</td>\n",
       "      <td>7.9250</td>\n",
       "      <td>NaN</td>\n",
       "      <td>S</td>\n",
       "    </tr>\n",
       "    <tr>\n",
       "      <th>3</th>\n",
       "      <td>1</td>\n",
       "      <td>1</td>\n",
       "      <td>female</td>\n",
       "      <td>35.0</td>\n",
       "      <td>1</td>\n",
       "      <td>0</td>\n",
       "      <td>53.1000</td>\n",
       "      <td>C123</td>\n",
       "      <td>S</td>\n",
       "    </tr>\n",
       "    <tr>\n",
       "      <th>4</th>\n",
       "      <td>0</td>\n",
       "      <td>3</td>\n",
       "      <td>male</td>\n",
       "      <td>35.0</td>\n",
       "      <td>0</td>\n",
       "      <td>0</td>\n",
       "      <td>8.0500</td>\n",
       "      <td>NaN</td>\n",
       "      <td>S</td>\n",
       "    </tr>\n",
       "  </tbody>\n",
       "</table>\n",
       "</div>"
      ],
      "text/plain": [
       "   Survived  Pclass     Sex   Age  SibSp  Parch     Fare Cabin Embarked\n",
       "0         0       3    male  22.0      1      0   7.2500   NaN        S\n",
       "1         1       1  female  38.0      1      0  71.2833   C85        C\n",
       "2         1       3  female  26.0      0      0   7.9250   NaN        S\n",
       "3         1       1  female  35.0      1      0  53.1000  C123        S\n",
       "4         0       3    male  35.0      0      0   8.0500   NaN        S"
      ]
     },
     "execution_count": 5,
     "metadata": {},
     "output_type": "execute_result"
    }
   ],
   "source": [
    "df.head()"
   ]
  },
  {
   "cell_type": "markdown",
   "id": "dc1f5249",
   "metadata": {},
   "source": [
    "#### 1.3.2 Gestion de valores Nan\n",
    "Ahora vamos a mostrar la cantidad de valores que hay en cada columna"
   ]
  },
  {
   "cell_type": "code",
   "execution_count": 6,
   "id": "f066bfd4",
   "metadata": {},
   "outputs": [
    {
     "data": {
      "text/plain": [
       "Survived    891\n",
       "Pclass      891\n",
       "Sex         891\n",
       "Age         714\n",
       "SibSp       891\n",
       "Parch       891\n",
       "Fare        891\n",
       "Cabin       204\n",
       "Embarked    889\n",
       "dtype: int64"
      ]
     },
     "execution_count": 6,
     "metadata": {},
     "output_type": "execute_result"
    }
   ],
   "source": [
    "df.count()"
   ]
  },
  {
   "cell_type": "markdown",
   "id": "a0840767",
   "metadata": {},
   "source": [
    "El número de filas es 891 y las variables que no alcanzan ese valor nos muestran la cantidad de valores nulos que contienen"
   ]
  },
  {
   "cell_type": "markdown",
   "id": "77f77475",
   "metadata": {},
   "source": [
    "La característica 'Cabin', que hace referencia al identificador de la cabina donde se hospedaba el cliente, contiene una gran cantidad de valores Nan"
   ]
  },
  {
   "cell_type": "code",
   "execution_count": 7,
   "id": "bc5175dc",
   "metadata": {},
   "outputs": [
    {
     "data": {
      "text/plain": [
       "77.10437710437711"
      ]
     },
     "execution_count": 7,
     "metadata": {},
     "output_type": "execute_result"
    }
   ],
   "source": [
    "(df['Cabin'].isna().sum()/891)*100 #Porcentaje de valores Nan"
   ]
  },
  {
   "cell_type": "markdown",
   "id": "69478d1c",
   "metadata": {},
   "source": [
    "Estos valores Nan representan que el pasajero no tenia cabina. No podemos especular sobre si esto afecta o no a la predicció de su supervivencia, por tanto, también podriamos eliminar la columna. \n",
    "Primero dividiremos la columna en un valor binario para identificar si tenía columna o no. \n",
    "Más adelante evaluaremos si esta era la mejor opción cuando entrenoms el modelo."
   ]
  },
  {
   "cell_type": "code",
   "execution_count": 8,
   "id": "eba3211d",
   "metadata": {},
   "outputs": [],
   "source": [
    "def set_bin(cabin:str):\n",
    "    if cabin != cabin:\n",
    "        return 0\n",
    "    else:\n",
    "        return 1\n",
    "    \n",
    "df['Cabin'] = [set_bin(x) for x in df['Cabin']]"
   ]
  },
  {
   "cell_type": "markdown",
   "id": "50f5f93b",
   "metadata": {},
   "source": [
    "Otra cantidad un poco más pequeña de falta de valores se encuentra en la columna '*Age*', la cual podemos completar con la media de todos los pasajeros"
   ]
  },
  {
   "cell_type": "code",
   "execution_count": 9,
   "id": "b5490add",
   "metadata": {},
   "outputs": [],
   "source": [
    "df['Age'].fillna(df['Age'].median(), inplace = True)"
   ]
  },
  {
   "cell_type": "markdown",
   "id": "c3e76da5",
   "metadata": {},
   "source": [
    "Por último nos faltaria gestionar la columna '*Embarked*'. Los valores nulos de esta característica también los podriamos completar con la media si no fuera porque no son un valor numérico. Debido a esto, usaremos otro estadístico que es la moda. Este estadísctico reflejará el valor que mas se repite dentro de la muestra"
   ]
  },
  {
   "cell_type": "code",
   "execution_count": 10,
   "id": "081ed2eb",
   "metadata": {},
   "outputs": [],
   "source": [
    "df['Embarked'].fillna(df['Embarked'].mode(), inplace = True)"
   ]
  },
  {
   "cell_type": "markdown",
   "id": "b59fb0ae",
   "metadata": {},
   "source": [
    "#### 1.3.3 Valores categóricos\n",
    "Dentro de este dataset econtramos características como el sexo que son incompatibles con el aprendizaje de los modelos predictivos. Para ello debemos conseguir que todas la columnas de nuestro conjunto de datos contengan valores numéricos.\n",
    "Para solucionar esto usaremos la técnica de **One hot encoding** que consiste en ampliar el número de columnas según los posibles valores y rellenarlas con un valor binario.\n",
    "![OHE](https://www.statology.org/wp-content/uploads/2021/09/oneHot1.png)"
   ]
  },
  {
   "cell_type": "markdown",
   "id": "3f8aa10b",
   "metadata": {},
   "source": [
    "Realizaremos esto con las columnas '*Sex*', '*Embarked*' y '*Pclass*'. En el caso del sexo mantendremos únicamente una columna para no tener información redundante."
   ]
  },
  {
   "cell_type": "code",
   "execution_count": 11,
   "id": "44d20a70",
   "metadata": {},
   "outputs": [],
   "source": [
    "#Para el sexo\n",
    "clb = df.pop(\"Sex\")\n",
    "ohe_clb = pd.get_dummies(clb, prefix='sexo')\n",
    "df = pd.concat([df.reset_index(drop=True), ohe_clb.reset_index(drop=True)], axis=1, sort=False)\n",
    "df = df.drop('sexo_female', axis=1)"
   ]
  },
  {
   "cell_type": "code",
   "execution_count": 12,
   "id": "22d1021f",
   "metadata": {},
   "outputs": [],
   "source": [
    "#Para el Embarque\n",
    "clb = df.pop(\"Embarked\")\n",
    "ohe_clb = pd.get_dummies(clb, prefix='embarque')\n",
    "df = pd.concat([df.reset_index(drop=True), ohe_clb.reset_index(drop=True)], axis=1, sort=False)"
   ]
  },
  {
   "cell_type": "code",
   "execution_count": 13,
   "id": "0266105c",
   "metadata": {},
   "outputs": [
    {
     "data": {
      "text/html": [
       "<div>\n",
       "<style scoped>\n",
       "    .dataframe tbody tr th:only-of-type {\n",
       "        vertical-align: middle;\n",
       "    }\n",
       "\n",
       "    .dataframe tbody tr th {\n",
       "        vertical-align: top;\n",
       "    }\n",
       "\n",
       "    .dataframe thead th {\n",
       "        text-align: right;\n",
       "    }\n",
       "</style>\n",
       "<table border=\"1\" class=\"dataframe\">\n",
       "  <thead>\n",
       "    <tr style=\"text-align: right;\">\n",
       "      <th></th>\n",
       "      <th>Survived</th>\n",
       "      <th>Age</th>\n",
       "      <th>SibSp</th>\n",
       "      <th>Parch</th>\n",
       "      <th>Fare</th>\n",
       "      <th>Cabin</th>\n",
       "      <th>sexo_male</th>\n",
       "      <th>embarque_C</th>\n",
       "      <th>embarque_Q</th>\n",
       "      <th>embarque_S</th>\n",
       "      <th>Clase_1</th>\n",
       "      <th>Clase_2</th>\n",
       "      <th>Clase_3</th>\n",
       "    </tr>\n",
       "  </thead>\n",
       "  <tbody>\n",
       "    <tr>\n",
       "      <th>0</th>\n",
       "      <td>0</td>\n",
       "      <td>22.0</td>\n",
       "      <td>1</td>\n",
       "      <td>0</td>\n",
       "      <td>7.2500</td>\n",
       "      <td>0</td>\n",
       "      <td>1</td>\n",
       "      <td>0</td>\n",
       "      <td>0</td>\n",
       "      <td>1</td>\n",
       "      <td>0</td>\n",
       "      <td>0</td>\n",
       "      <td>1</td>\n",
       "    </tr>\n",
       "    <tr>\n",
       "      <th>1</th>\n",
       "      <td>1</td>\n",
       "      <td>38.0</td>\n",
       "      <td>1</td>\n",
       "      <td>0</td>\n",
       "      <td>71.2833</td>\n",
       "      <td>1</td>\n",
       "      <td>0</td>\n",
       "      <td>1</td>\n",
       "      <td>0</td>\n",
       "      <td>0</td>\n",
       "      <td>1</td>\n",
       "      <td>0</td>\n",
       "      <td>0</td>\n",
       "    </tr>\n",
       "    <tr>\n",
       "      <th>2</th>\n",
       "      <td>1</td>\n",
       "      <td>26.0</td>\n",
       "      <td>0</td>\n",
       "      <td>0</td>\n",
       "      <td>7.9250</td>\n",
       "      <td>0</td>\n",
       "      <td>0</td>\n",
       "      <td>0</td>\n",
       "      <td>0</td>\n",
       "      <td>1</td>\n",
       "      <td>0</td>\n",
       "      <td>0</td>\n",
       "      <td>1</td>\n",
       "    </tr>\n",
       "    <tr>\n",
       "      <th>3</th>\n",
       "      <td>1</td>\n",
       "      <td>35.0</td>\n",
       "      <td>1</td>\n",
       "      <td>0</td>\n",
       "      <td>53.1000</td>\n",
       "      <td>1</td>\n",
       "      <td>0</td>\n",
       "      <td>0</td>\n",
       "      <td>0</td>\n",
       "      <td>1</td>\n",
       "      <td>1</td>\n",
       "      <td>0</td>\n",
       "      <td>0</td>\n",
       "    </tr>\n",
       "    <tr>\n",
       "      <th>4</th>\n",
       "      <td>0</td>\n",
       "      <td>35.0</td>\n",
       "      <td>0</td>\n",
       "      <td>0</td>\n",
       "      <td>8.0500</td>\n",
       "      <td>0</td>\n",
       "      <td>1</td>\n",
       "      <td>0</td>\n",
       "      <td>0</td>\n",
       "      <td>1</td>\n",
       "      <td>0</td>\n",
       "      <td>0</td>\n",
       "      <td>1</td>\n",
       "    </tr>\n",
       "  </tbody>\n",
       "</table>\n",
       "</div>"
      ],
      "text/plain": [
       "   Survived   Age  SibSp  Parch     Fare  Cabin  sexo_male  embarque_C  \\\n",
       "0         0  22.0      1      0   7.2500      0          1           0   \n",
       "1         1  38.0      1      0  71.2833      1          0           1   \n",
       "2         1  26.0      0      0   7.9250      0          0           0   \n",
       "3         1  35.0      1      0  53.1000      1          0           0   \n",
       "4         0  35.0      0      0   8.0500      0          1           0   \n",
       "\n",
       "   embarque_Q  embarque_S  Clase_1  Clase_2  Clase_3  \n",
       "0           0           1        0        0        1  \n",
       "1           0           0        1        0        0  \n",
       "2           0           1        0        0        1  \n",
       "3           0           1        1        0        0  \n",
       "4           0           1        0        0        1  "
      ]
     },
     "execution_count": 13,
     "metadata": {},
     "output_type": "execute_result"
    }
   ],
   "source": [
    "#Para el Embarque\n",
    "clb = df.pop(\"Pclass\")\n",
    "ohe_clb = pd.get_dummies(clb, prefix='Clase')\n",
    "df = pd.concat([df.reset_index(drop=True), ohe_clb.reset_index(drop=True)], axis=1, sort=False)\n",
    "\n",
    "df.head()"
   ]
  },
  {
   "cell_type": "markdown",
   "id": "35931278",
   "metadata": {},
   "source": [
    "Ahora debemos pasar todos los valores de las columnas a el mismo tipo de dato. En este caso haremos que todos sean floats de 64 bits para mantener los decimales en '*Age*' y '*Fare*'."
   ]
  },
  {
   "cell_type": "code",
   "execution_count": 14,
   "id": "372a66ac",
   "metadata": {},
   "outputs": [],
   "source": [
    "for column in df:\n",
    "    df[column]=df[column].astype(float)"
   ]
  },
  {
   "cell_type": "markdown",
   "id": "8375ea43",
   "metadata": {},
   "source": [
    "#### 1.3.4 Analisis Exploratorio de los Datos (EDA)\n",
    "Ahora mostramos la matriz de correlación para intentar entcontrar valores dependientes o redundantes"
   ]
  },
  {
   "cell_type": "code",
   "execution_count": 15,
   "id": "b42f7fb5",
   "metadata": {
    "scrolled": false
   },
   "outputs": [
    {
     "data": {
      "image/png": "[encoded data removed]",
      "text/plain": [
       "<Figure size 2000x1200 with 2 Axes>"
      ]
     },
     "metadata": {},
     "output_type": "display_data"
    }
   ],
   "source": [
    "sns.heatmap(df.corr(),annot=True,cmap='coolwarm',linewidths=0.2) \n",
    "fig=plt.gcf()\n",
    "fig.set_size_inches(20,12)\n",
    "plt.show()"
   ]
  },
  {
   "cell_type": "markdown",
   "id": "2aeb5a1b",
   "metadata": {},
   "source": [
    "Al analizar la matriz podemos observar que hay una serie de valores relacionados con la columna '*Survived*' que destacan sobre otros, es decir, que estan mas cerca de 1 o -1. Para analizar estos valores hay que saber que si una casilla toma un valor positivo entonces los valores de las dos columnas relacionadas incrementan cuando el otro incrementa. En cambio si es negativo, cuando uno sube el otro baja.\n",
    "\n",
    "Por ejemplo, el valor mas representativo es el que relaciona  '*sexo_male*' con 'survived'. Después de analizar estos dos primeros ejemplos podemos llegar a una conclusión de que el sexo femenino tiene más posibilidades de sobrevivir que el masculino, ya que en la matriz de correlación tiene un valor positivo elevado.\n",
    "\n",
    "Otra columna interesante es la de '*Pclass*' con un valor de -0.34 lo que nos indica que cuanto mayor sea la clase menos probabilidades de sobrevivir. En el Titanic había tres clases (1,2 y 3) por lo que los de clase 1 tenían más posibilidades de sobrevivir que los de clase 2 o 3.\n",
    "\n",
    "Por último hay que destacar la columna '*Fare*' que tiene un valor de 0.26 (cuanto más vale fare, más vale survived). En nuestro dataset el valor '*Fare*' indica la cantidad que han pagado las personas por el billete, por lo que los que más han pagado tiene más posibilades de sobrevivir que los que han pagado una cantidad menor."
   ]
  },
  {
   "cell_type": "code",
   "execution_count": 16,
   "id": "48f3d03e",
   "metadata": {},
   "outputs": [
    {
     "data": {
      "image/png": "[encoded data removed]",
      "text/plain": [
       "<Figure size 1272.11x300 with 1 Axes>"
      ]
     },
     "metadata": {},
     "output_type": "display_data"
    }
   ],
   "source": [
    "facet = sns.FacetGrid(df, hue=\"Survived\",aspect=4)\n",
    "facet.map(sns.kdeplot,'Age',fill=True)\n",
    "facet.set(xlim=(0, df['Age'].max()))\n",
    "facet.add_legend() \n",
    "plt.show()"
   ]
  },
  {
   "cell_type": "markdown",
   "id": "babec795",
   "metadata": {},
   "source": [
    "Como podemos observar en el gráfico anterior entre el rango de edad de 18-40 años nos encontramos con más cantidad de personas que en los otros rangos, por lo que es normal que muera y sobrevive más gente, aunque se puede ver como en este rango de edad hay más densidad de personas que no sobreviven a que sobreviven. Además, en el rango de edad de 0 a 18 años nos encontramos con que hay más supervivientes, y que a partir de los 45 años se igualan los supervivientos con los no supervivientes superando estos últimos a los primeros una vez superados los 60.\n",
    "\n",
    "Con estos podemos sacar la conclusión que la edad era un factor importante si eras menor de edad ya que los niños eran prioritarios para salvarse, pero que a medida que aumentan los años las opciones de sobrevivir disminuyen."
   ]
  },
  {
   "cell_type": "code",
   "execution_count": 17,
   "id": "2e7b7432",
   "metadata": {},
   "outputs": [
    {
     "data": {
      "text/plain": [
       "(0.0, 20.0)"
      ]
     },
     "execution_count": 17,
     "metadata": {},
     "output_type": "execute_result"
    },
    {
     "data": {
      "image/png": "[encoded data removed]",
      "text/plain": [
       "<Figure size 972.111x300 with 1 Axes>"
      ]
     },
     "metadata": {},
     "output_type": "display_data"
    }
   ],
   "source": [
    "facet = sns.FacetGrid(df, hue=\"Survived\",aspect=3)\n",
    "facet.map(sns.kdeplot,'Fare',fill=True)\n",
    "facet.set(xlim=(0, df['Fare'].max()))\n",
    "facet.add_legend() \n",
    "plt.xlim(0,20)"
   ]
  },
  {
   "cell_type": "markdown",
   "id": "a0bef299",
   "metadata": {},
   "source": [
    "También hemos realizado un gráfico para ver si el precio que han pagado los pasajeros influye en las opciones de sobrevivir. Claramente se puede decir que si que influye ya que vemos que donde hay más densidad de muertes es al principio del eje x, lo que significa que los que menos pagaron tuvieron menos posibilidades de sobrevivir. Y a medida que el eje x aumenta nos encontramos con más supervivientes."
   ]
  },
  {
   "cell_type": "code",
   "execution_count": 18,
   "id": "6dbb0906",
   "metadata": {},
   "outputs": [
    {
     "data": {
      "image/png": "[encoded data removed]",
      "text/plain": [
       "<Figure size 640x480 with 1 Axes>"
      ]
     },
     "metadata": {},
     "output_type": "display_data"
    }
   ],
   "source": [
    "sns.barplot(x = \"sexo_male\", y = \"Survived\", data = df)\n",
    "plt.show()"
   ]
  },
  {
   "cell_type": "markdown",
   "id": "d6d606c9",
   "metadata": {},
   "source": [
    "Este gráfico representa la media (entre 0 y 1) de supervivientes según el sexo. El color azul representa el sexo femenino y el naranja el masculino. A primera vista podemos observar como hay muchas más mujeres que sobreviven por encima de los hombres lo que nos lleva a la conclusión que tenían prioridad respecto al género masculino y por lo tanto había más posibilidades de no morir siendo mujer."
   ]
  },
  {
   "cell_type": "markdown",
   "id": "c4d9f6fd",
   "metadata": {},
   "source": [
    "#### 1.3.5 Normalización\n",
    "Para mantener los mismos rangos entre los valores de las columnas procedemos a normalizar. "
   ]
  },
  {
   "cell_type": "code",
   "execution_count": 19,
   "id": "8105c02a",
   "metadata": {
    "scrolled": true
   },
   "outputs": [
    {
     "data": {
      "text/html": [
       "<div>\n",
       "<style scoped>\n",
       "    .dataframe tbody tr th:only-of-type {\n",
       "        vertical-align: middle;\n",
       "    }\n",
       "\n",
       "    .dataframe tbody tr th {\n",
       "        vertical-align: top;\n",
       "    }\n",
       "\n",
       "    .dataframe thead th {\n",
       "        text-align: right;\n",
       "    }\n",
       "</style>\n",
       "<table border=\"1\" class=\"dataframe\">\n",
       "  <thead>\n",
       "    <tr style=\"text-align: right;\">\n",
       "      <th></th>\n",
       "      <th>Survived</th>\n",
       "      <th>Age</th>\n",
       "      <th>SibSp</th>\n",
       "      <th>Parch</th>\n",
       "      <th>Fare</th>\n",
       "      <th>Cabin</th>\n",
       "      <th>sexo_male</th>\n",
       "      <th>embarque_C</th>\n",
       "      <th>embarque_Q</th>\n",
       "      <th>embarque_S</th>\n",
       "      <th>Clase_1</th>\n",
       "      <th>Clase_2</th>\n",
       "      <th>Clase_3</th>\n",
       "    </tr>\n",
       "  </thead>\n",
       "  <tbody>\n",
       "    <tr>\n",
       "      <th>0</th>\n",
       "      <td>0.0</td>\n",
       "      <td>-0.565736</td>\n",
       "      <td>0.432793</td>\n",
       "      <td>-0.473674</td>\n",
       "      <td>-0.502445</td>\n",
       "      <td>0.0</td>\n",
       "      <td>1.0</td>\n",
       "      <td>0.0</td>\n",
       "      <td>0.0</td>\n",
       "      <td>1.0</td>\n",
       "      <td>0.0</td>\n",
       "      <td>0.0</td>\n",
       "      <td>1.0</td>\n",
       "    </tr>\n",
       "    <tr>\n",
       "      <th>1</th>\n",
       "      <td>1.0</td>\n",
       "      <td>0.663861</td>\n",
       "      <td>0.432793</td>\n",
       "      <td>-0.473674</td>\n",
       "      <td>0.786845</td>\n",
       "      <td>1.0</td>\n",
       "      <td>0.0</td>\n",
       "      <td>1.0</td>\n",
       "      <td>0.0</td>\n",
       "      <td>0.0</td>\n",
       "      <td>1.0</td>\n",
       "      <td>0.0</td>\n",
       "      <td>0.0</td>\n",
       "    </tr>\n",
       "    <tr>\n",
       "      <th>2</th>\n",
       "      <td>1.0</td>\n",
       "      <td>-0.258337</td>\n",
       "      <td>-0.474545</td>\n",
       "      <td>-0.473674</td>\n",
       "      <td>-0.488854</td>\n",
       "      <td>0.0</td>\n",
       "      <td>0.0</td>\n",
       "      <td>0.0</td>\n",
       "      <td>0.0</td>\n",
       "      <td>1.0</td>\n",
       "      <td>0.0</td>\n",
       "      <td>0.0</td>\n",
       "      <td>1.0</td>\n",
       "    </tr>\n",
       "    <tr>\n",
       "      <th>3</th>\n",
       "      <td>1.0</td>\n",
       "      <td>0.433312</td>\n",
       "      <td>0.432793</td>\n",
       "      <td>-0.473674</td>\n",
       "      <td>0.420730</td>\n",
       "      <td>1.0</td>\n",
       "      <td>0.0</td>\n",
       "      <td>0.0</td>\n",
       "      <td>0.0</td>\n",
       "      <td>1.0</td>\n",
       "      <td>1.0</td>\n",
       "      <td>0.0</td>\n",
       "      <td>0.0</td>\n",
       "    </tr>\n",
       "    <tr>\n",
       "      <th>4</th>\n",
       "      <td>0.0</td>\n",
       "      <td>0.433312</td>\n",
       "      <td>-0.474545</td>\n",
       "      <td>-0.473674</td>\n",
       "      <td>-0.486337</td>\n",
       "      <td>0.0</td>\n",
       "      <td>1.0</td>\n",
       "      <td>0.0</td>\n",
       "      <td>0.0</td>\n",
       "      <td>1.0</td>\n",
       "      <td>0.0</td>\n",
       "      <td>0.0</td>\n",
       "      <td>1.0</td>\n",
       "    </tr>\n",
       "  </tbody>\n",
       "</table>\n",
       "</div>"
      ],
      "text/plain": [
       "   Survived       Age     SibSp     Parch      Fare  Cabin  sexo_male  \\\n",
       "0       0.0 -0.565736  0.432793 -0.473674 -0.502445    0.0        1.0   \n",
       "1       1.0  0.663861  0.432793 -0.473674  0.786845    1.0        0.0   \n",
       "2       1.0 -0.258337 -0.474545 -0.473674 -0.488854    0.0        0.0   \n",
       "3       1.0  0.433312  0.432793 -0.473674  0.420730    1.0        0.0   \n",
       "4       0.0  0.433312 -0.474545 -0.473674 -0.486337    0.0        1.0   \n",
       "\n",
       "   embarque_C  embarque_Q  embarque_S  Clase_1  Clase_2  Clase_3  \n",
       "0         0.0         0.0         1.0      0.0      0.0      1.0  \n",
       "1         1.0         0.0         0.0      1.0      0.0      0.0  \n",
       "2         0.0         0.0         1.0      0.0      0.0      1.0  \n",
       "3         0.0         0.0         1.0      1.0      0.0      0.0  \n",
       "4         0.0         0.0         1.0      0.0      0.0      1.0  "
      ]
     },
     "execution_count": 19,
     "metadata": {},
     "output_type": "execute_result"
    }
   ],
   "source": [
    "scaler = StandardScaler()\n",
    "df.Age=scaler.fit_transform(df.Age.values.reshape(-1,1))\n",
    "df.Fare=scaler.fit_transform(df.Fare.values.reshape(-1,1))\n",
    "df.SibSp=scaler.fit_transform(df.SibSp.values.reshape(-1,1))\n",
    "df.Parch=scaler.fit_transform(df.Parch.values.reshape(-1,1)) \n",
    "df.head()"
   ]
  },
  {
   "cell_type": "markdown",
   "id": "c113ab86",
   "metadata": {},
   "source": [
    "Este último paso de normalización antes del entrenamiento de los modelos, es especialmente crítico a la hora de obtener la importancia de cada característica"
   ]
  },
  {
   "cell_type": "markdown",
   "id": "f82852a0",
   "metadata": {},
   "source": [
    "### 1.4 Modelos\n",
    "Ahora procedemos a crear y entrenar los distintos modelos con los datos anteriormente revisados, para así evaluar su precisión. \n",
    "Importamos las librerias necesarias"
   ]
  },
  {
   "cell_type": "code",
   "execution_count": 20,
   "id": "cbbb982c",
   "metadata": {},
   "outputs": [],
   "source": [
    "#Dividir datos para evitar overfitting y poder evaluar\n",
    "from sklearn.model_selection import train_test_split \n",
    "#Precisión\n",
    "from sklearn.metrics import accuracy_score\n",
    "#Modelos\n",
    "from sklearn.linear_model import LogisticRegression\n",
    "from sklearn.linear_model import Perceptron\n",
    "from sklearn.tree import DecisionTreeClassifier\n",
    "from sklearn.ensemble import RandomForestClassifier\n",
    "from sklearn.model_selection import GridSearchCV"
   ]
  },
  {
   "cell_type": "markdown",
   "id": "254f178d",
   "metadata": {},
   "source": [
    "Dividimos los datos entre entrenamiento y evaluación, habiendo separado previamente el objetivo que queremos predecir, en este caso '*Survived*'"
   ]
  },
  {
   "cell_type": "code",
   "execution_count": 21,
   "id": "7e33d214",
   "metadata": {},
   "outputs": [],
   "source": [
    "X_data = df.drop(\"Survived\",axis=1)\n",
    "Objetivo = df[\"Survived\"]\n",
    "X_train,X_test,y_train,y_test = train_test_split(X_data,Objetivo,test_size=0.33,random_state=42)"
   ]
  },
  {
   "cell_type": "markdown",
   "id": "37d1b651",
   "metadata": {},
   "source": [
    "Preparamos otro conjunto de datos pero sin contener la columna '*Cabin*' para comprobar que forma de entrenar los modelos es más óptima"
   ]
  },
  {
   "cell_type": "code",
   "execution_count": 22,
   "id": "0e2103da",
   "metadata": {},
   "outputs": [],
   "source": [
    "X_data = df.drop(\"Survived\",axis=1)\n",
    "X_data2 = X_data.drop(\"Cabin\",axis=1)\n",
    "Objetivo = df[\"Survived\"]\n",
    "X_train2,X_test2,y_train2,y_test2 = train_test_split(X_data2,Objetivo,test_size=0.33,random_state=42)"
   ]
  },
  {
   "cell_type": "markdown",
   "id": "f4e5b714",
   "metadata": {},
   "source": [
    "#### 1.4.1 Regresión Logística\n",
    "Este método estadístico trata de modelar la probabilidad de una variable cualitativa binaria, en este caso '*Survived*', en función de una o más variables como las que tenemos en el dataset.\n",
    "Esta modelo sigue una función sigmoide:\n",
    "![OHE](https://wikimedia.org/api/rest_v1/media/math/render/svg/9f9655dad99527a46d3d532543360135b492dfd2)  \n",
    "\n",
    "Esta función es continua y derivable. En este caso, no la podemos observar gráficamente puesto que el numero de dimensiones no es observable.\n",
    "Con la libreria sklearn podemos crear este modelo y reducir el error de su '*loss function*' o lo que se conoce como entrenamiento. "
   ]
  },
  {
   "cell_type": "markdown",
   "id": "8129fe5f",
   "metadata": {},
   "source": [
    "Creamos el modelo y lo entrenamos"
   ]
  },
  {
   "cell_type": "code",
   "execution_count": 23,
   "id": "765eefb0",
   "metadata": {},
   "outputs": [
    {
     "name": "stdout",
     "output_type": "stream",
     "text": [
      "La precisión del modelo de Regresión Logística es del  82.03 %\n"
     ]
    }
   ],
   "source": [
    "modeloLR = LogisticRegression()\n",
    "modeloLR.fit(X_train,y_train)\n",
    "prediction_lr=modeloLR.predict(X_test)\n",
    "print('La precisión del modelo de Regresión Logística es del ',\n",
    "      round(accuracy_score(prediction_lr,y_test)*100,2),'%')"
   ]
  },
  {
   "cell_type": "markdown",
   "id": "37f94488",
   "metadata": {},
   "source": [
    "Entrenamos el otro modelo sin la columna '*Cabin*'"
   ]
  },
  {
   "cell_type": "code",
   "execution_count": 24,
   "id": "daeb08ec",
   "metadata": {},
   "outputs": [
    {
     "name": "stdout",
     "output_type": "stream",
     "text": [
      "La precisión del modelo de Regresión Logística es del 80.68 %\n"
     ]
    }
   ],
   "source": [
    "modeloLR2 = LogisticRegression()\n",
    "modeloLR2.fit(X_train2,y_train2)\n",
    "prediction_lr2=modeloLR2.predict(X_test2)\n",
    "print('La precisión del modelo de Regresión Logística es del',\n",
    "      round(accuracy_score(prediction_lr2,y_test2)*100,2),'%')"
   ]
  },
  {
   "cell_type": "markdown",
   "id": "47983390",
   "metadata": {},
   "source": [
    "Como se puede comprobar, la precisión del modelo entrenado con la columna '*Cabin*', es considerablemente superior\n",
    "\n",
    "Una vez hemos decidido el conjunto de datos con el que entrenaremos los modelos debemos optimizar los parametros de los predictores para que sean los más óptimos posible.\n",
    "Esto se puede realizar haciendo uso de la libreria **GridSearchCV**"
   ]
  },
  {
   "cell_type": "code",
   "execution_count": 25,
   "id": "c3ad0c89",
   "metadata": {},
   "outputs": [
    {
     "name": "stdout",
     "output_type": "stream",
     "text": [
      "{'max_iter': 700, 'solver': 'liblinear'}\n"
     ]
    }
   ],
   "source": [
    "#PARAMETROS\n",
    "#numero de iteraciones\n",
    "iteraciones = np.arange(700,1200,100)\n",
    "#Algoritmo usado en la optimización\n",
    "optimizadores = np.array(['lbfgs', 'liblinear', 'newton-cg', 'sag', 'saga'])\n",
    "\n",
    "grid=GridSearchCV(estimator = modeloLR,\n",
    "                  param_grid = dict(max_iter = iteraciones,\n",
    "                                   solver = optimizadores\n",
    "                                   ),\n",
    "                  cv = 3)\n",
    "grid.fit(X_train,y_train)\n",
    "#Mejores parametros para usar\n",
    "print(grid.best_params_)"
   ]
  },
  {
   "cell_type": "markdown",
   "id": "e8cb7b1e",
   "metadata": {},
   "source": [
    "Una vez que optimizamos los parámetros posibles (a pesar de que la libreria cuente con más posiblilidades nosotros contemplamos estos) pasamos a crear el modelo de regresión logística definitivo."
   ]
  },
  {
   "cell_type": "code",
   "execution_count": 26,
   "id": "29f41971",
   "metadata": {},
   "outputs": [
    {
     "name": "stdout",
     "output_type": "stream",
     "text": [
      "La precisión del modelo de Regresión Logística es del  82.03 %\n"
     ]
    }
   ],
   "source": [
    "new_modeloLR = LogisticRegression(max_iter=grid.best_params_['max_iter'], solver=grid.best_params_['solver'])\n",
    "new_modeloLR.fit(X_train,y_train)\n",
    "new_prediction_lr=new_modeloLR.predict(X_test)\n",
    "print('La precisión del modelo de Regresión Logística es del ',\n",
    "      round(accuracy_score(new_prediction_lr,y_test)*100,2),'%')"
   ]
  },
  {
   "cell_type": "markdown",
   "id": "a31f7c1b",
   "metadata": {},
   "source": [
    "#### 1.4.2 Perceptron\n",
    "Un perceptrón es un modelo matemático inspirado en una estructura y función simplificadas de una única neurona biológica. \n",
    "Los valores de entrada múltiples alimentan el modelo del perceptrón, el modelo se ejecuta con los valores de entrada, y si el valor estimado es el mismo que la salida requerida, entonces el rendimiento del modelo se encuentra satisfecho, por lo que los pesos no exigen cambios. De hecho, si el modelo no cumple con el resultado requerido, entonces se realizan algunos cambios en los pesos para minimizar los errores, así hasta converger un una zona con un mínimo error.\n",
    "\n",
    "![OHE](https://imgs.search.brave.com/5JQsB-RHZyxiVSzvuvb83kMMZ4APv1-LbMeA3SJCdI4/rs:fit:629:302:1/g:ce/aHR0cHM6Ly9hbGV4/YW5kZXJoYXkyMDIw/LmdpdGh1Yi5pby9h/c3NldHMvaW1nL25u/XzAyLnBuZw)\n",
    "\n",
    "Como anteriormente hemos visto que la columna '*Cabin*' si que aumenta el rendimiento, la usaremos para entrenar el resto de nuestros modelos de predicción. \n",
    "Vovemos a consultar los mejores parametros para el modelo "
   ]
  },
  {
   "cell_type": "code",
   "execution_count": 27,
   "id": "a7386821",
   "metadata": {},
   "outputs": [
    {
     "name": "stdout",
     "output_type": "stream",
     "text": [
      "{'alpha': 1.0, 'max_iter': 700, 'shuffle': False}\n"
     ]
    }
   ],
   "source": [
    "#PARAMETROS\n",
    "#numero de iteraciones\n",
    "iteraciones = np.arange(700,1200,100)\n",
    "#Constante para regularizar \n",
    "alphas = np.array([1, 0.5, 0.2, 0.1, 0.05, 0.02, 0.01])\n",
    "#Mezclar o no después de cada ciclo\n",
    "mezcla = [True, False]\n",
    "\n",
    "grid=GridSearchCV(estimator = Perceptron(),\n",
    "                  param_grid = dict(max_iter = iteraciones,\n",
    "                                   alpha = alphas,\n",
    "                                   shuffle = mezcla),\n",
    "                  cv = 3)\n",
    "grid.fit(X_train,y_train)\n",
    "#Mejores parametros para usar\n",
    "print(grid.best_params_)"
   ]
  },
  {
   "cell_type": "markdown",
   "id": "282bca90",
   "metadata": {},
   "source": [
    "Ahora cogemos estos parametros para entrenar el modelo"
   ]
  },
  {
   "cell_type": "code",
   "execution_count": 28,
   "id": "0b9bb057",
   "metadata": {},
   "outputs": [
    {
     "name": "stdout",
     "output_type": "stream",
     "text": [
      "La precisión del Perceptron es del  82.03 %\n"
     ]
    }
   ],
   "source": [
    "modeloPer = Perceptron(alpha=grid.best_params_['alpha'],max_iter=grid.best_params_['max_iter'],\n",
    "                       shuffle=grid.best_params_['shuffle'])\n",
    "modeloPer.fit(X_train,y_train)\n",
    "prediction_per=modeloPer.predict(X_test)\n",
    "print('La precisión del Perceptron es del ',\n",
    "      round(accuracy_score(prediction_lr,y_test)*100,2),'%')"
   ]
  },
  {
   "cell_type": "markdown",
   "id": "5021d56c",
   "metadata": {},
   "source": [
    "#### 1.4.3 Clasificador de Árbol de Decision\n",
    "Como su nombre indica, esta técnica de machine learning toma una serie de decisiones en forma de árbol. Los nodos intermedios (las ramas) representan soluciones. Los nodos finales (las hojas) nos dan la predicción que vamos buscando.\n",
    "decision\n",
    "\n",
    "En cada nodo del árbol se debe tomar una decisión entre un valor atribuido a dicho nodo. Para asignar los atributos de decisión más predecibles a los nodos se usa la entropia, que representa la homogeneidad de las muestras en ese nodo\n",
    "\n",
    "Una vez decidios los parametros de los nodos ya está formado el modelo que decide:\n",
    "![OHE](https://imgs.search.brave.com/8PTRz3Dd3BnAKnDBaItdO9JaqsOSOJ0Icte7UpTAka4/rs:fit:663:528:1/g:ce/aHR0cHM6Ly9taXJv/Lm1lZGl1bS5jb20v/bWF4LzEzMjYvMSp4/R3NZYzZhWGVoRDds/eW9MRW4tbU1BLnBu/Zw)\n",
    "Para problemas más complejos se puede utilizar el '**Random Forest Classifier**', que en pocas palabras, utiliza varios arboles de decisión, de ahí el nombre *forest*.\n",
    "\n",
    "Como hemos visto antes, estos modelos necesitan de unos atributos para poder predecir. Estos atributos los inicializan a través de diferentes criterios, que són *gini, entropy y log_loss*, que hacen referencia a:\n",
    "\n",
    "-La impureza de Gini (desigualdad): $H(Q_m) = \\sum_k p_{mk} (1 - p_{mk})$ \n",
    "\n",
    "-La ganancia de información: $H(Q_m) = - \\sum_k p_{mk} \\log(p_{mk})$ \n",
    "\n",
    "respectivamente.\n",
    "\n",
    "Para ver que modelo y criterio es mejor entrenaremos cada uno de ellos con los mejores criterios para evaluar su rendimiento.\n",
    "\n",
    "Creamos un dataset para comparar sus rendimientos"
   ]
  },
  {
   "cell_type": "code",
   "execution_count": 29,
   "id": "ed9f3b44",
   "metadata": {},
   "outputs": [
    {
     "name": "stdout",
     "output_type": "stream",
     "text": [
      "Parámetros para el Árbol de Decisión són: {'criterion': 'log_loss', 'min_samples_leaf': 5, 'min_samples_split': 2, 'splitter': 'random'}\n",
      "Parámetros para el Random Forest són: {'criterion': 'entropy', 'n_estimators': 70}\n"
     ]
    }
   ],
   "source": [
    "#PARAMETROS NECESARIOS\n",
    "#criterio para predecir atributo\n",
    "criterios = np.array(['gini','entropy','log_loss'])\n",
    "#estrategia para separar en cada nodo\n",
    "separa = np.array(['best', 'random'])\n",
    "#numero de arboles en el bosque\n",
    "trees = np.arange(20,120,10)\n",
    "#El minimo de numero de muestras para dividir un nodo interno\n",
    "divide = np.arange(2,8,1)\n",
    "#El minimi numero de muestras para ser un nodo hoja\n",
    "hoja = np.arange(1,9,1)\n",
    "\n",
    "#Mejores parametros para el arbol de decisión\n",
    "gridDT=GridSearchCV(estimator = DecisionTreeClassifier(),\n",
    "                      param_grid = dict(criterion=criterios,\n",
    "                                   splitter=separa,\n",
    "                                   min_samples_split=divide,\n",
    "                                   min_samples_leaf=hoja),\n",
    "                  cv = 3)\n",
    "gridDT.fit(X_train,y_train)\n",
    "#Mejores parametros para usar\n",
    "print('Parámetros para el Árbol de Decisión són:',gridDT.best_params_)\n",
    "\n",
    "#Mejores parametros para el RandomForest\n",
    "gridRF=GridSearchCV(estimator = RandomForestClassifier(),\n",
    "                  param_grid = dict(criterion=criterios,\n",
    "                                   n_estimators=trees),\n",
    "                  cv = 3)\n",
    "gridRF.fit(X_train,y_train)\n",
    "#Mejores parametros para usar\n",
    "print('Parámetros para el Random Forest són:',gridRF.best_params_)"
   ]
  },
  {
   "cell_type": "markdown",
   "id": "fef633bf",
   "metadata": {},
   "source": [
    "Como hemos visto no hemos puesto todos los paramtros para optimizar porque el tiempo de ejecución sería muy elevado"
   ]
  },
  {
   "cell_type": "markdown",
   "id": "5d64729f",
   "metadata": {},
   "source": [
    "Ahora entrenamos los dos modelos con sus parametros óptimos y comparamos sus rendimientos.\n",
    "\n",
    "\n",
    "Árbol de Decisión"
   ]
  },
  {
   "cell_type": "code",
   "execution_count": 30,
   "id": "c87316d5",
   "metadata": {},
   "outputs": [
    {
     "name": "stdout",
     "output_type": "stream",
     "text": [
      "La precisión del Árbol de Decisión es del  80.0 %\n"
     ]
    }
   ],
   "source": [
    "modeloArbol= DecisionTreeClassifier(criterion=gridDT.best_params_['criterion'], \n",
    "                                    min_samples_split=gridDT.best_params_['min_samples_split'], \n",
    "                                    min_samples_leaf=gridDT.best_params_['min_samples_leaf'], max_features='sqrt')\n",
    "modeloArbol.fit(X_train,y_train)\n",
    "prediction_tree=modeloArbol.predict(X_test)\n",
    "print('La precisión del Árbol de Decisión es del ',\n",
    "      round(accuracy_score(prediction_tree,y_test)*100,2),'%')"
   ]
  },
  {
   "cell_type": "markdown",
   "id": "e90bdc30",
   "metadata": {},
   "source": [
    "Random Forest"
   ]
  },
  {
   "cell_type": "code",
   "execution_count": 31,
   "id": "cb74d355",
   "metadata": {},
   "outputs": [
    {
     "name": "stdout",
     "output_type": "stream",
     "text": [
      "La precisión del Random Forest es del  77.29 %\n"
     ]
    }
   ],
   "source": [
    "modeloBosque= RandomForestClassifier(criterion=gridRF.best_params_['criterion'],\n",
    "                                     n_estimators=gridRF.best_params_['n_estimators'], max_features='sqrt')\n",
    "modeloBosque.fit(X_train,y_train)\n",
    "prediction_forest=modeloBosque.predict(X_test)\n",
    "print('La precisión del Random Forest es del ',\n",
    "    round(accuracy_score(prediction_forest,y_test)*100,2),'%')"
   ]
  },
  {
   "cell_type": "markdown",
   "id": "8c2fb35b",
   "metadata": {},
   "source": [
    "Como podemos comprobar el rendimiento de ambos es muy parecido, siendo prácticamente irrelevante la decisión de escoger uno frente a otro.\n",
    "\n",
    "Otra cosa a destacar es el hecho a que debido a impedimentos de las versiones de las librerias hemos tenido que seleccionar el parámetro 'max_features' en 'sqrt'. Este parámetro únicamente hace referencia al el número de muestras máximo para considerar un split en el nodo."
   ]
  },
  {
   "cell_type": "markdown",
   "id": "ee45efa7",
   "metadata": {},
   "source": [
    "## Parte 2"
   ]
  },
  {
   "cell_type": "markdown",
   "id": "d799ec36",
   "metadata": {},
   "source": [
    "Esta segunda parte consiste en obtener la importáncia de cada característica para cada uno de los modelos, lo que se conoce como '*feature importance*'"
   ]
  },
  {
   "cell_type": "markdown",
   "id": "0d02ae71",
   "metadata": {},
   "source": [
    "Los modelos asignan pesos, $w_i$, a los parámetros , $x_i$, para poder obtener su predicción. \n",
    "\n",
    "Para realizar esta parte, primero debemos obtener los pesos de cada uno de los parametros para todos los modelos"
   ]
  },
  {
   "cell_type": "code",
   "execution_count": 67,
   "id": "c860dc9c",
   "metadata": {
    "scrolled": true
   },
   "outputs": [
    {
     "data": {
      "text/html": [
       "<div>\n",
       "<style scoped>\n",
       "    .dataframe tbody tr th:only-of-type {\n",
       "        vertical-align: middle;\n",
       "    }\n",
       "\n",
       "    .dataframe tbody tr th {\n",
       "        vertical-align: top;\n",
       "    }\n",
       "\n",
       "    .dataframe thead th {\n",
       "        text-align: right;\n",
       "    }\n",
       "</style>\n",
       "<table border=\"1\" class=\"dataframe\">\n",
       "  <thead>\n",
       "    <tr style=\"text-align: right;\">\n",
       "      <th></th>\n",
       "      <th>Age</th>\n",
       "      <th>SibSp</th>\n",
       "      <th>Parch</th>\n",
       "      <th>Fare</th>\n",
       "      <th>Cabin</th>\n",
       "      <th>sexo_male</th>\n",
       "      <th>embarque_C</th>\n",
       "      <th>embarque_Q</th>\n",
       "      <th>embarque_S</th>\n",
       "      <th>Clase_1</th>\n",
       "      <th>Clase_2</th>\n",
       "      <th>Clase_3</th>\n",
       "    </tr>\n",
       "  </thead>\n",
       "  <tbody>\n",
       "  </tbody>\n",
       "</table>\n",
       "</div>"
      ],
      "text/plain": [
       "Empty DataFrame\n",
       "Columns: [Age, SibSp, Parch, Fare, Cabin, sexo_male, embarque_C, embarque_Q, embarque_S, Clase_1, Clase_2, Clase_3]\n",
       "Index: []"
      ]
     },
     "execution_count": 67,
     "metadata": {},
     "output_type": "execute_result"
    }
   ],
   "source": [
    "#Creamos data set para ordenar\n",
    "df1=pd.DataFrame(columns=df.columns)\n",
    "df1=df1.drop('Survived',axis=1)\n",
    "df1"
   ]
  },
  {
   "cell_type": "markdown",
   "id": "01584ec1",
   "metadata": {},
   "source": [
    "Cabe mencionar que para poder realizar esta comparación de importancia de las características según los pesos del modelo necesitamos que las columnas de los datos de aprendizaje estén normalizados, es decir, han de estar en la misma escala. Es por eso que hemos realizado ese paso en la **Parte 1**"
   ]
  },
  {
   "cell_type": "markdown",
   "id": "0b0a0cbc",
   "metadata": {},
   "source": [
    "Obtenemos los valores medios de los coeficientes de la regresión logística y los añadimos a el dataset "
   ]
  },
  {
   "cell_type": "code",
   "execution_count": 68,
   "id": "c2d7fd9b",
   "metadata": {},
   "outputs": [
    {
     "data": {
      "text/html": [
       "<div>\n",
       "<style scoped>\n",
       "    .dataframe tbody tr th:only-of-type {\n",
       "        vertical-align: middle;\n",
       "    }\n",
       "\n",
       "    .dataframe tbody tr th {\n",
       "        vertical-align: top;\n",
       "    }\n",
       "\n",
       "    .dataframe thead th {\n",
       "        text-align: right;\n",
       "    }\n",
       "</style>\n",
       "<table border=\"1\" class=\"dataframe\">\n",
       "  <thead>\n",
       "    <tr style=\"text-align: right;\">\n",
       "      <th></th>\n",
       "      <th>Age</th>\n",
       "      <th>SibSp</th>\n",
       "      <th>Parch</th>\n",
       "      <th>Fare</th>\n",
       "      <th>Cabin</th>\n",
       "      <th>sexo_male</th>\n",
       "      <th>embarque_C</th>\n",
       "      <th>embarque_Q</th>\n",
       "      <th>embarque_S</th>\n",
       "      <th>Clase_1</th>\n",
       "      <th>Clase_2</th>\n",
       "      <th>Clase_3</th>\n",
       "    </tr>\n",
       "  </thead>\n",
       "  <tbody>\n",
       "    <tr>\n",
       "      <th>Pesos Regresión Logística</th>\n",
       "      <td>-0.31946</td>\n",
       "      <td>-0.270631</td>\n",
       "      <td>-0.104104</td>\n",
       "      <td>0.208459</td>\n",
       "      <td>1.21697</td>\n",
       "      <td>-2.410574</td>\n",
       "      <td>0.562311</td>\n",
       "      <td>0.224958</td>\n",
       "      <td>-0.228928</td>\n",
       "      <td>0.146992</td>\n",
       "      <td>0.875795</td>\n",
       "      <td>-0.363951</td>\n",
       "    </tr>\n",
       "  </tbody>\n",
       "</table>\n",
       "</div>"
      ],
      "text/plain": [
       "                               Age     SibSp     Parch      Fare    Cabin  \\\n",
       "Pesos Regresión Logística -0.31946 -0.270631 -0.104104  0.208459  1.21697   \n",
       "\n",
       "                           sexo_male  embarque_C  embarque_Q  embarque_S  \\\n",
       "Pesos Regresión Logística  -2.410574    0.562311    0.224958   -0.228928   \n",
       "\n",
       "                            Clase_1   Clase_2   Clase_3  \n",
       "Pesos Regresión Logística  0.146992  0.875795 -0.363951  "
      ]
     },
     "execution_count": 68,
     "metadata": {},
     "output_type": "execute_result"
    }
   ],
   "source": [
    "pesos = []\n",
    "keys =  df1.columns\n",
    "\n",
    "iterations = 10\n",
    "#Obtenemos pesos de la regresión logística\n",
    "pesos = new_modeloLR.coef_[0]\n",
    "\n",
    "dictionary = dict(zip(keys, pesos))\n",
    "#print(dictionary)\n",
    "dflr = pd.DataFrame(dictionary, index=['Pesos Regresión Logística'])\n",
    "#añadimos al dataset\n",
    "df1 = pd.concat([df1, dflr], axis=0)\n",
    "dflr.head()"
   ]
  },
  {
   "cell_type": "markdown",
   "id": "9c69f851",
   "metadata": {},
   "source": [
    "Obtenemos los valores medios de los coeficientes del Perceptron y los añadimos al dataset"
   ]
  },
  {
   "cell_type": "code",
   "execution_count": 69,
   "id": "dc1efd00",
   "metadata": {
    "scrolled": true
   },
   "outputs": [
    {
     "data": {
      "text/html": [
       "<div>\n",
       "<style scoped>\n",
       "    .dataframe tbody tr th:only-of-type {\n",
       "        vertical-align: middle;\n",
       "    }\n",
       "\n",
       "    .dataframe tbody tr th {\n",
       "        vertical-align: top;\n",
       "    }\n",
       "\n",
       "    .dataframe thead th {\n",
       "        text-align: right;\n",
       "    }\n",
       "</style>\n",
       "<table border=\"1\" class=\"dataframe\">\n",
       "  <thead>\n",
       "    <tr style=\"text-align: right;\">\n",
       "      <th></th>\n",
       "      <th>Age</th>\n",
       "      <th>SibSp</th>\n",
       "      <th>Parch</th>\n",
       "      <th>Fare</th>\n",
       "      <th>Cabin</th>\n",
       "      <th>sexo_male</th>\n",
       "      <th>embarque_C</th>\n",
       "      <th>embarque_Q</th>\n",
       "      <th>embarque_S</th>\n",
       "      <th>Clase_1</th>\n",
       "      <th>Clase_2</th>\n",
       "      <th>Clase_3</th>\n",
       "    </tr>\n",
       "  </thead>\n",
       "  <tbody>\n",
       "    <tr>\n",
       "      <th>Pesos Perceptron</th>\n",
       "      <td>-0.105002</td>\n",
       "      <td>-0.990842</td>\n",
       "      <td>-1.894694</td>\n",
       "      <td>1.609133</td>\n",
       "      <td>4.0</td>\n",
       "      <td>-8.0</td>\n",
       "      <td>2.0</td>\n",
       "      <td>2.0</td>\n",
       "      <td>-1.0</td>\n",
       "      <td>0.0</td>\n",
       "      <td>4.0</td>\n",
       "      <td>0.0</td>\n",
       "    </tr>\n",
       "  </tbody>\n",
       "</table>\n",
       "</div>"
      ],
      "text/plain": [
       "                       Age     SibSp     Parch      Fare  Cabin  sexo_male  \\\n",
       "Pesos Perceptron -0.105002 -0.990842 -1.894694  1.609133    4.0       -8.0   \n",
       "\n",
       "                  embarque_C  embarque_Q  embarque_S  Clase_1  Clase_2  \\\n",
       "Pesos Perceptron         2.0         2.0        -1.0      0.0      4.0   \n",
       "\n",
       "                  Clase_3  \n",
       "Pesos Perceptron      0.0  "
      ]
     },
     "execution_count": 69,
     "metadata": {},
     "output_type": "execute_result"
    }
   ],
   "source": [
    "pesos = []\n",
    "#Obtenemos pesos del Perceptron\n",
    "pesos = modeloPer.coef_[0]\n",
    "\n",
    "dictionary = dict(zip(keys, pesos))\n",
    "\n",
    "dfper = pd.DataFrame(dictionary, index=['Pesos Perceptron'])\n",
    "#añadimos al dataset\n",
    "df1 = pd.concat([df1, dfper], axis=0)\n",
    "dfper.head()"
   ]
  },
  {
   "cell_type": "markdown",
   "id": "9098adec",
   "metadata": {},
   "source": [
    "Como esto es un problema de clasificación de clases entre {0,1}, nos damos cuenta de que hemos obtenido tanto valores positivos como negativos. Los valores positivos indican una característica que predice la clase 1, mientras que los valores negativos indican características que predicen la clase 0. En otras palabras los valores mayores que cero predicen que se sobrevive, mientras que los valores menores que 0 hacen lo contrario.\n",
    "Por ejemplo, como la columna sexo asigna un 1 a los hombres, podemos ver como los valores de esa columna impactan de forma negativa sobre los hombres, ya que tiene un valor negativo"
   ]
  },
  {
   "cell_type": "markdown",
   "id": "698bb9e4",
   "metadata": {},
   "source": [
    "Debido a que todos los datos estaban normalizados, podemos afirmar o deducir que los valores más grandes ayudan a predecir esa clase con un mayor efecto. Con otras palabras, cuanto mayor sea el número (por arriba o por abajo) significa que ha sido más determinante en la predicción."
   ]
  },
  {
   "cell_type": "markdown",
   "id": "72f5ea52",
   "metadata": {},
   "source": [
    "Por tanto, una vez hecho esto podemos representar las importancias"
   ]
  },
  {
   "cell_type": "code",
   "execution_count": 70,
   "id": "f2b3198c",
   "metadata": {
    "scrolled": false
   },
   "outputs": [
    {
     "data": {
      "text/plain": [
       "<matplotlib.legend.Legend at 0x7f02dcdda9a0>"
      ]
     },
     "execution_count": 70,
     "metadata": {},
     "output_type": "execute_result"
    },
    {
     "data": {
      "image/png": "[encoded data removed]",
      "text/plain": [
       "<Figure size 640x480 with 1 Axes>"
      ]
     },
     "metadata": {},
     "output_type": "display_data"
    }
   ],
   "source": [
    "rowlr = df1.iloc[0]\n",
    "impLR= rowlr.plot.bar()\n",
    "impLR.set_xlabel('Características')\n",
    "impLR.set_ylabel('Importancia')\n",
    "impLR.legend(title='Regresión Logística')\n"
   ]
  },
  {
   "cell_type": "code",
   "execution_count": 71,
   "id": "fe65911e",
   "metadata": {
    "scrolled": false
   },
   "outputs": [
    {
     "data": {
      "text/plain": [
       "<matplotlib.legend.Legend at 0x7f02dcc43c40>"
      ]
     },
     "execution_count": 71,
     "metadata": {},
     "output_type": "execute_result"
    },
    {
     "data": {
      "image/png": "[encoded data removed]",
      "text/plain": [
       "<Figure size 640x480 with 1 Axes>"
      ]
     },
     "metadata": {},
     "output_type": "display_data"
    }
   ],
   "source": [
    "rowper = df1.iloc[1]\n",
    "impPercep = rowper.plot.bar()\n",
    "impPercep.set_xlabel('Características')\n",
    "impPercep.set_ylabel('Importancia')\n",
    "impLR.legend(title='Perceptrón')"
   ]
  },
  {
   "cell_type": "markdown",
   "id": "6ef0601d",
   "metadata": {},
   "source": [
    "Una vez hecho esto observamos como la proporción de '*importance*' de cada característica es muy parecida en los dos modelos.\n",
    "\n",
    "Observamos como el embarque C es la característica más importante para predecir tu NO supervivéncia. Entre otros valores, destacamos el sexo o la cabina.\n",
    "\n",
    "También podriamos optado por representar la importancia en valor absoluto. Hemos decidido no hacerlo así para mantener la información negativa o positiva.\n",
    "\n",
    "Otra opción sería incluso reescalar estos valora a una escala de, por ejemplo, <0,100>, para poder observar los porcentajes '%' de reelevancia. Pero creemos que es suficiente con ver las características más y menos importantes de esta forma.\n",
    "\n",
    "Debido a lo anterior, vemos que, aunque los números en el perceptron sean mayores la relación entre ellos es la misma, como se puede deducir de los gráficos anteriores. Es por eso que no hemos encontrado que fuera necesario reescalarlos, pues contamos con la representación visual"
   ]
  },
  {
   "cell_type": "markdown",
   "id": "0547221d",
   "metadata": {},
   "source": [
    "Por último, obtenemos los valores medios de las feature importances de los últimos modelos y los añadimos al dataset. Lo haremos tanto con el **RandomForestClassifier** como con el **DecisionTreeClassifier**"
   ]
  },
  {
   "cell_type": "markdown",
   "id": "1895f640",
   "metadata": {},
   "source": [
    "Como el **RandomForestClassifier** no tiene el atributo .coef__ (más adelante explicaremos el porqué), debemos crear otra función para obtener los pesos. Para ello utilizaremos el atributo `*feature_importances_*'."
   ]
  },
  {
   "cell_type": "code",
   "execution_count": 72,
   "id": "e3aa3735",
   "metadata": {
    "scrolled": true
   },
   "outputs": [
    {
     "data": {
      "text/html": [
       "<div>\n",
       "<style scoped>\n",
       "    .dataframe tbody tr th:only-of-type {\n",
       "        vertical-align: middle;\n",
       "    }\n",
       "\n",
       "    .dataframe tbody tr th {\n",
       "        vertical-align: top;\n",
       "    }\n",
       "\n",
       "    .dataframe thead th {\n",
       "        text-align: right;\n",
       "    }\n",
       "</style>\n",
       "<table border=\"1\" class=\"dataframe\">\n",
       "  <thead>\n",
       "    <tr style=\"text-align: right;\">\n",
       "      <th></th>\n",
       "      <th>Age</th>\n",
       "      <th>SibSp</th>\n",
       "      <th>Parch</th>\n",
       "      <th>Fare</th>\n",
       "      <th>Cabin</th>\n",
       "      <th>sexo_male</th>\n",
       "      <th>embarque_C</th>\n",
       "      <th>embarque_Q</th>\n",
       "      <th>embarque_S</th>\n",
       "      <th>Clase_1</th>\n",
       "      <th>Clase_2</th>\n",
       "      <th>Clase_3</th>\n",
       "    </tr>\n",
       "  </thead>\n",
       "  <tbody>\n",
       "    <tr>\n",
       "      <th>Pesos RandomForest</th>\n",
       "      <td>0.267313</td>\n",
       "      <td>0.050615</td>\n",
       "      <td>0.03774</td>\n",
       "      <td>0.271633</td>\n",
       "      <td>0.044722</td>\n",
       "      <td>0.206828</td>\n",
       "      <td>0.014607</td>\n",
       "      <td>0.008294</td>\n",
       "      <td>0.018503</td>\n",
       "      <td>0.015632</td>\n",
       "      <td>0.025561</td>\n",
       "      <td>0.038552</td>\n",
       "    </tr>\n",
       "  </tbody>\n",
       "</table>\n",
       "</div>"
      ],
      "text/plain": [
       "                         Age     SibSp    Parch      Fare     Cabin  \\\n",
       "Pesos RandomForest  0.267313  0.050615  0.03774  0.271633  0.044722   \n",
       "\n",
       "                    sexo_male  embarque_C  embarque_Q  embarque_S   Clase_1  \\\n",
       "Pesos RandomForest   0.206828    0.014607    0.008294    0.018503  0.015632   \n",
       "\n",
       "                     Clase_2   Clase_3  \n",
       "Pesos RandomForest  0.025561  0.038552  "
      ]
     },
     "execution_count": 72,
     "metadata": {},
     "output_type": "execute_result"
    }
   ],
   "source": [
    "pesos = []\n",
    "#Obtenemos las feature importances del modelo \n",
    "pesosRF = modeloBosque.feature_importances_\n",
    "pesosDT = modeloArbol.feature_importances_\n",
    "\n",
    "dictionaryRF = dict(zip(keys, pesosRF))\n",
    "dictionaryDT = dict(zip(keys, pesosDT))\n",
    "\n",
    "dfdt = pd.DataFrame(dictionaryDT, index=['Pesos DecisionTree'])\n",
    "dfrf = pd.DataFrame(dictionaryRF, index=['Pesos RandomForest'])\n",
    "#añadimos al dataset\n",
    "df1 = pd.concat([df1, dfrf], axis=0)\n",
    "df1 = pd.concat([df1, dfdt], axis=0)"
   ]
  },
  {
   "cell_type": "code",
   "execution_count": 80,
   "id": "f09bcf48",
   "metadata": {},
   "outputs": [
    {
     "data": {
      "text/html": [
       "<div>\n",
       "<style scoped>\n",
       "    .dataframe tbody tr th:only-of-type {\n",
       "        vertical-align: middle;\n",
       "    }\n",
       "\n",
       "    .dataframe tbody tr th {\n",
       "        vertical-align: top;\n",
       "    }\n",
       "\n",
       "    .dataframe thead th {\n",
       "        text-align: right;\n",
       "    }\n",
       "</style>\n",
       "<table border=\"1\" class=\"dataframe\">\n",
       "  <thead>\n",
       "    <tr style=\"text-align: right;\">\n",
       "      <th></th>\n",
       "      <th>Age</th>\n",
       "      <th>SibSp</th>\n",
       "      <th>Parch</th>\n",
       "      <th>Fare</th>\n",
       "      <th>Cabin</th>\n",
       "      <th>sexo_male</th>\n",
       "      <th>embarque_C</th>\n",
       "      <th>embarque_Q</th>\n",
       "      <th>embarque_S</th>\n",
       "      <th>Clase_1</th>\n",
       "      <th>Clase_2</th>\n",
       "      <th>Clase_3</th>\n",
       "    </tr>\n",
       "  </thead>\n",
       "  <tbody>\n",
       "    <tr>\n",
       "      <th>Pesos DecisionTree</th>\n",
       "      <td>0.168581</td>\n",
       "      <td>0.031865</td>\n",
       "      <td>0.017538</td>\n",
       "      <td>0.142663</td>\n",
       "      <td>0.143105</td>\n",
       "      <td>0.431608</td>\n",
       "      <td>0.016216</td>\n",
       "      <td>0.00001</td>\n",
       "      <td>0.015389</td>\n",
       "      <td>0.006719</td>\n",
       "      <td>0.0</td>\n",
       "      <td>0.026306</td>\n",
       "    </tr>\n",
       "  </tbody>\n",
       "</table>\n",
       "</div>"
      ],
      "text/plain": [
       "                         Age     SibSp     Parch      Fare     Cabin  \\\n",
       "Pesos DecisionTree  0.168581  0.031865  0.017538  0.142663  0.143105   \n",
       "\n",
       "                    sexo_male  embarque_C  embarque_Q  embarque_S   Clase_1  \\\n",
       "Pesos DecisionTree   0.431608    0.016216     0.00001    0.015389  0.006719   \n",
       "\n",
       "                    Clase_2   Clase_3  \n",
       "Pesos DecisionTree      0.0  0.026306  "
      ]
     },
     "execution_count": 80,
     "metadata": {},
     "output_type": "execute_result"
    }
   ],
   "source": [
    "dfdt.head()"
   ]
  },
  {
   "cell_type": "code",
   "execution_count": 79,
   "id": "6d758d44",
   "metadata": {},
   "outputs": [
    {
     "data": {
      "text/html": [
       "<div>\n",
       "<style scoped>\n",
       "    .dataframe tbody tr th:only-of-type {\n",
       "        vertical-align: middle;\n",
       "    }\n",
       "\n",
       "    .dataframe tbody tr th {\n",
       "        vertical-align: top;\n",
       "    }\n",
       "\n",
       "    .dataframe thead th {\n",
       "        text-align: right;\n",
       "    }\n",
       "</style>\n",
       "<table border=\"1\" class=\"dataframe\">\n",
       "  <thead>\n",
       "    <tr style=\"text-align: right;\">\n",
       "      <th></th>\n",
       "      <th>Age</th>\n",
       "      <th>SibSp</th>\n",
       "      <th>Parch</th>\n",
       "      <th>Fare</th>\n",
       "      <th>Cabin</th>\n",
       "      <th>sexo_male</th>\n",
       "      <th>embarque_C</th>\n",
       "      <th>embarque_Q</th>\n",
       "      <th>embarque_S</th>\n",
       "      <th>Clase_1</th>\n",
       "      <th>Clase_2</th>\n",
       "      <th>Clase_3</th>\n",
       "    </tr>\n",
       "  </thead>\n",
       "  <tbody>\n",
       "    <tr>\n",
       "      <th>Pesos RandomForest</th>\n",
       "      <td>0.267313</td>\n",
       "      <td>0.050615</td>\n",
       "      <td>0.03774</td>\n",
       "      <td>0.271633</td>\n",
       "      <td>0.044722</td>\n",
       "      <td>0.206828</td>\n",
       "      <td>0.014607</td>\n",
       "      <td>0.008294</td>\n",
       "      <td>0.018503</td>\n",
       "      <td>0.015632</td>\n",
       "      <td>0.025561</td>\n",
       "      <td>0.038552</td>\n",
       "    </tr>\n",
       "  </tbody>\n",
       "</table>\n",
       "</div>"
      ],
      "text/plain": [
       "                         Age     SibSp    Parch      Fare     Cabin  \\\n",
       "Pesos RandomForest  0.267313  0.050615  0.03774  0.271633  0.044722   \n",
       "\n",
       "                    sexo_male  embarque_C  embarque_Q  embarque_S   Clase_1  \\\n",
       "Pesos RandomForest   0.206828    0.014607    0.008294    0.018503  0.015632   \n",
       "\n",
       "                     Clase_2   Clase_3  \n",
       "Pesos RandomForest  0.025561  0.038552  "
      ]
     },
     "execution_count": 79,
     "metadata": {},
     "output_type": "execute_result"
    }
   ],
   "source": [
    "dfrf.head()"
   ]
  },
  {
   "cell_type": "code",
   "execution_count": 75,
   "id": "6343d169",
   "metadata": {},
   "outputs": [
    {
     "name": "stdout",
     "output_type": "stream",
     "text": [
      "Pesos Random Forest\n"
     ]
    },
    {
     "data": {
      "image/png": "[encoded data removed]",
      "text/plain": [
       "<Figure size 640x480 with 1 Axes>"
      ]
     },
     "metadata": {},
     "output_type": "display_data"
    }
   ],
   "source": [
    "rowper = df1.iloc[2]\n",
    "impPercep = rowper.plot.bar()\n",
    "impPercep.set_xlabel('Características')\n",
    "impPercep.set_ylabel('Importancia')\n",
    "impLR.legend(title='RandomForest')\n",
    "print(\"Pesos Random Forest\")"
   ]
  },
  {
   "cell_type": "code",
   "execution_count": 76,
   "id": "a7a7bd1d",
   "metadata": {},
   "outputs": [
    {
     "name": "stdout",
     "output_type": "stream",
     "text": [
      "Pesos Arbol de decisión\n"
     ]
    },
    {
     "data": {
      "image/png": "[encoded data removed]",
      "text/plain": [
       "<Figure size 640x480 with 1 Axes>"
      ]
     },
     "metadata": {},
     "output_type": "display_data"
    }
   ],
   "source": [
    "rowper = df1.iloc[3]\n",
    "impPercep = rowper.plot.bar()\n",
    "impPercep.set_xlabel('Características')\n",
    "impPercep.set_ylabel('Importancia')\n",
    "impLR.legend(title='DecisionTree')\n",
    "print(\"Pesos Arbol de decisión\")"
   ]
  },
  {
   "cell_type": "markdown",
   "id": "2aee7442",
   "metadata": {},
   "source": [
    "En grandes rasgos podemos ver como la edad es la característica que más pesa en este modelo junto con el precio que han pagado"
   ]
  },
  {
   "cell_type": "markdown",
   "id": "feb9699a",
   "metadata": {},
   "source": [
    "### 2.4 Analisis, evaluación y explicación\n"
   ]
  },
  {
   "cell_type": "markdown",
   "id": "5f7b937a",
   "metadata": {},
   "source": [
    "Una vez hemos hecho los anteriores cálculos encontramos una clara diferencia entre los valores de la Regresion logística y Perceptron con el RandomForest. \n",
    "\n",
    "Esta diferencia se debe a que los dos primeros modelos són paramétricos, es decir, realizan una expresión matemática dependiendo de los parámetros. Estos pesos $w_i$ que asigna a las características són los coeficientes obtenidos. \n",
    "\n",
    "Estos coeficientes solo reflejarían la importancia en el caso de que estuvieran normalizados."
   ]
  },
  {
   "cell_type": "markdown",
   "id": "3e1fdefd",
   "metadata": {},
   "source": [
    "Por el otro lado, los modelos no paramétricos tienen diferentes formas de medir la importáncia. En el caso de los árboles, esto se mide comprobando como de cerca esta la variable del nodo raíz."
   ]
  },
  {
   "cell_type": "markdown",
   "id": "7e4af51e",
   "metadata": {},
   "source": [
    "Esto refleja que los modelos no paramétricos como los arboles de decisión necesitan algo de trabajo extra para obtener la '*feature importance*', a pesar de que nosotros la podamos obtener con un único método. \n",
    "\n",
    "Debido a esto, el atributo feature_importances_ del modelo **RandomForest** devuelve los valores ya en un rango <0,1>\n"
   ]
  },
  {
   "cell_type": "markdown",
   "id": "2ed75dfd",
   "metadata": {},
   "source": [
    "Para ver el resultado final, vamos a mostrar todas las '*feature importances*' de cada modelo en un dataframe."
   ]
  },
  {
   "cell_type": "code",
   "execution_count": 82,
   "id": "3b34acb0",
   "metadata": {
    "scrolled": true
   },
   "outputs": [],
   "source": [
    "df1=df1.transpose()"
   ]
  },
  {
   "cell_type": "markdown",
   "id": "2240ffac",
   "metadata": {},
   "source": [
    "Para ello, esta vez formatearemos las filas de los dos primeros modelos para que muestren un rango de 0 a 1 de valores positivos y podamos comparar con el último modelo"
   ]
  },
  {
   "cell_type": "code",
   "execution_count": 83,
   "id": "beb7f8fd",
   "metadata": {
    "scrolled": false
   },
   "outputs": [
    {
     "data": {
      "text/html": [
       "<div>\n",
       "<style scoped>\n",
       "    .dataframe tbody tr th:only-of-type {\n",
       "        vertical-align: middle;\n",
       "    }\n",
       "\n",
       "    .dataframe tbody tr th {\n",
       "        vertical-align: top;\n",
       "    }\n",
       "\n",
       "    .dataframe thead th {\n",
       "        text-align: right;\n",
       "    }\n",
       "</style>\n",
       "<table border=\"1\" class=\"dataframe\">\n",
       "  <thead>\n",
       "    <tr style=\"text-align: right;\">\n",
       "      <th></th>\n",
       "      <th>Pesos Regresión Logística</th>\n",
       "      <th>Pesos Perceptron</th>\n",
       "      <th>Pesos RandomForest</th>\n",
       "      <th>Pesos DecisionTree</th>\n",
       "    </tr>\n",
       "  </thead>\n",
       "  <tbody>\n",
       "    <tr>\n",
       "      <th>Age</th>\n",
       "      <td>10.446512</td>\n",
       "      <td>1.685329</td>\n",
       "      <td>42.745534</td>\n",
       "      <td>41.067776</td>\n",
       "    </tr>\n",
       "    <tr>\n",
       "      <th>SibSp</th>\n",
       "      <td>5.665352</td>\n",
       "      <td>10.180872</td>\n",
       "      <td>5.181395</td>\n",
       "      <td>4.969287</td>\n",
       "    </tr>\n",
       "    <tr>\n",
       "      <th>Parch</th>\n",
       "      <td>1.425881</td>\n",
       "      <td>12.737587</td>\n",
       "      <td>2.527751</td>\n",
       "      <td>1.789562</td>\n",
       "    </tr>\n",
       "    <tr>\n",
       "      <th>Fare</th>\n",
       "      <td>2.627736</td>\n",
       "      <td>9.955986</td>\n",
       "      <td>16.743955</td>\n",
       "      <td>13.397095</td>\n",
       "    </tr>\n",
       "    <tr>\n",
       "      <th>Cabin</th>\n",
       "      <td>6.334809</td>\n",
       "      <td>10.219869</td>\n",
       "      <td>1.138383</td>\n",
       "      <td>5.549412</td>\n",
       "    </tr>\n",
       "    <tr>\n",
       "      <th>sexo_male</th>\n",
       "      <td>6.138047</td>\n",
       "      <td>9.998418</td>\n",
       "      <td>2.575344</td>\n",
       "      <td>8.187227</td>\n",
       "    </tr>\n",
       "    <tr>\n",
       "      <th>embarque_C</th>\n",
       "      <td>6.100771</td>\n",
       "      <td>10.650492</td>\n",
       "      <td>0.774989</td>\n",
       "      <td>1.310648</td>\n",
       "    </tr>\n",
       "    <tr>\n",
       "      <th>embarque_Q</th>\n",
       "      <td>2.833968</td>\n",
       "      <td>12.366738</td>\n",
       "      <td>0.510916</td>\n",
       "      <td>0.000914</td>\n",
       "    </tr>\n",
       "    <tr>\n",
       "      <th>embarque_S</th>\n",
       "      <td>5.100239</td>\n",
       "      <td>10.935111</td>\n",
       "      <td>2.015801</td>\n",
       "      <td>2.554152</td>\n",
       "    </tr>\n",
       "    <tr>\n",
       "      <th>Clase_1</th>\n",
       "      <td>24.420766</td>\n",
       "      <td>0.000000</td>\n",
       "      <td>12.699568</td>\n",
       "      <td>8.316326</td>\n",
       "    </tr>\n",
       "    <tr>\n",
       "      <th>Clase_2</th>\n",
       "      <td>5.027121</td>\n",
       "      <td>11.269597</td>\n",
       "      <td>0.717491</td>\n",
       "      <td>0.000000</td>\n",
       "    </tr>\n",
       "    <tr>\n",
       "      <th>Clase_3</th>\n",
       "      <td>23.878799</td>\n",
       "      <td>0.000000</td>\n",
       "      <td>12.368871</td>\n",
       "      <td>12.857602</td>\n",
       "    </tr>\n",
       "  </tbody>\n",
       "</table>\n",
       "</div>"
      ],
      "text/plain": [
       "            Pesos Regresión Logística  Pesos Perceptron  Pesos RandomForest  \\\n",
       "Age                         10.446512          1.685329           42.745534   \n",
       "SibSp                        5.665352         10.180872            5.181395   \n",
       "Parch                        1.425881         12.737587            2.527751   \n",
       "Fare                         2.627736          9.955986           16.743955   \n",
       "Cabin                        6.334809         10.219869            1.138383   \n",
       "sexo_male                    6.138047          9.998418            2.575344   \n",
       "embarque_C                   6.100771         10.650492            0.774989   \n",
       "embarque_Q                   2.833968         12.366738            0.510916   \n",
       "embarque_S                   5.100239         10.935111            2.015801   \n",
       "Clase_1                     24.420766          0.000000           12.699568   \n",
       "Clase_2                      5.027121         11.269597            0.717491   \n",
       "Clase_3                     23.878799          0.000000           12.368871   \n",
       "\n",
       "            Pesos DecisionTree  \n",
       "Age                  41.067776  \n",
       "SibSp                 4.969287  \n",
       "Parch                 1.789562  \n",
       "Fare                 13.397095  \n",
       "Cabin                 5.549412  \n",
       "sexo_male             8.187227  \n",
       "embarque_C            1.310648  \n",
       "embarque_Q            0.000914  \n",
       "embarque_S            2.554152  \n",
       "Clase_1               8.316326  \n",
       "Clase_2               0.000000  \n",
       "Clase_3              12.857602  "
      ]
     },
     "execution_count": 83,
     "metadata": {},
     "output_type": "execute_result"
    }
   ],
   "source": [
    "for c in df1.columns:\n",
    "    #Obtenemos el valor absoluto\n",
    "    df1[c]=df1[c].abs()\n",
    "    #Ponemos en un rango entre {0,1} de \n",
    "    #forma que sume 1\n",
    "    df1[c]=df1[c]/df1[c].sum()\n",
    "    #obtenemos el porcentaje\n",
    "    df1[c]=df1[c]*100\n",
    "    \n",
    "df1"
   ]
  },
  {
   "cell_type": "markdown",
   "id": "36f0ab0d",
   "metadata": {},
   "source": [
    "Aqui podemos comparar de forma clara el porcentaje de importancia de las características para cada modelo. \n",
    "En este recuadro podemos comprobar como como el **RandomForest** da valora a variables que no parecen tan relevantes en los otros modelos como puede ser la edad o el fare, que son casi irrelevantes para los predictores paramétricos.\n",
    "\n",
    "Por otro lado, el Perceptron y la Regresión logística le dan una gran importancia al embarque C, mientras que al modelo de árbol no lo le da importáncia. \n",
    "\n",
    "Podemos ver como el modelo **Perceptron** no le da importancia a la clase 1 y 3. Esto se debe a que obtine esa información de la otra columna.\n",
    "\n",
    "De la misma forma hace el arbol de decisión con la Clase 2, ya que puede saber el valor de esa columna con las otras dos características.\n",
    "\n",
    "Este caso se ve también con el embarque, puesto que la importancia del embarque Q se aproxima a 0 en el último modelo\n",
    "\n",
    "Como conclusión vemos claramente como el sexo es la característica que importa de gran manera en todos y cada uno de los modelos predictores entrenados."
   ]
  }
 ],
 "metadata": {
  "celltoolbar": "Raw Cell Format",
  "kernelspec": {
   "display_name": "Python 3 (ipykernel)",
   "language": "python",
   "name": "python3"
  },
  "language_info": {
   "codemirror_mode": {
    "name": "ipython",
    "version": 3
   },
   "file_extension": ".py",
   "mimetype": "text/x-python",
   "name": "python",
   "nbconvert_exporter": "python",
   "pygments_lexer": "ipython3",
   "version": "3.9.12"
  }
 },
 "nbformat": 4,
 "nbformat_minor": 5
}
