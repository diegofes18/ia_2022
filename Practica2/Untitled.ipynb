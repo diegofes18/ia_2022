{
 "cells": [
  {
   "cell_type": "markdown",
   "id": "5ea2aad6",
   "metadata": {},
   "source": [
    "# Predicción de supervivéncia del Titanic\n",
    "\n",
    "Esta práctica se divide en dos partes:\n",
    "1. En la primera parte entrenaremos un conjunto de modelos de clasificación de machine learning (perceptron, regression logística y arbol de decisión) para predecir la probabilidad que tendría un pasajero del Titánic de sobrevivir.\n",
    "2. En la segunda parte realizaremos el *feature importance*, que básicamente consiste en analizar la importancia que tiene cada característica en cada uno de los modelos predictivos\n"
   ]
  },
  {
   "cell_type": "markdown",
   "id": "cb5d766e",
   "metadata": {},
   "source": [
    "## Parte 1"
   ]
  },
  {
   "cell_type": "markdown",
   "id": "30ba38a7",
   "metadata": {},
   "source": [
    "### "
   ]
  }
 ],
 "metadata": {
  "celltoolbar": "Raw Cell Format",
  "kernelspec": {
   "display_name": "Python 3 (ipykernel)",
   "language": "python",
   "name": "python3"
  },
  "language_info": {
   "codemirror_mode": {
    "name": "ipython",
    "version": 3
   },
   "file_extension": ".py",
   "mimetype": "text/x-python",
   "name": "python",
   "nbconvert_exporter": "python",
   "pygments_lexer": "ipython3",
   "version": "3.10.8"
  }
 },
 "nbformat": 4,
 "nbformat_minor": 5
}
